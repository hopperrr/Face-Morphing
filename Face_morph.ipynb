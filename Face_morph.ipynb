{
  "nbformat": 4,
  "nbformat_minor": 0,
  "metadata": {
    "colab": {
      "provenance": [],
      "authorship_tag": "ABX9TyNlqJiCJkfMvB3B8OgVXhY0",
      "include_colab_link": true
    },
    "kernelspec": {
      "name": "python3",
      "display_name": "Python 3"
    },
    "language_info": {
      "name": "python"
    }
  },
  "cells": [
    {
      "cell_type": "markdown",
      "metadata": {
        "id": "view-in-github",
        "colab_type": "text"
      },
      "source": [
        "<a href=\"https://colab.research.google.com/github/hopperrr/Face-Morphing/blob/master/Face_morph.ipynb\" target=\"_parent\"><img src=\"https://colab.research.google.com/assets/colab-badge.svg\" alt=\"Open In Colab\"/></a>"
      ]
    },
    {
      "cell_type": "code",
      "execution_count": null,
      "metadata": {
        "id": "PMiFn-SgOa08"
      },
      "outputs": [],
      "source": [
        "!git clone https://github.com/hopperrr/Face-Morphing.git"
      ]
    },
    {
      "cell_type": "code",
      "source": [
        "!mkdir /content/face-morphing-multiple-images/raw_images\n",
        "!mkdir /content/face-morphing-multiple-images/aligned_images\n",
        "!mkdir /content/face-morphing-multiple-images/tmp_videos"
      ],
      "metadata": {
        "id": "t_VkFUD8PChP"
      },
      "execution_count": 7,
      "outputs": []
    },
    {
      "cell_type": "code",
      "source": [
        "%cd /content/face-morphing-multiple-images\n",
        "!python code/utils/align_images.py raw_images/ aligned_images/ --output_size=1024"
      ],
      "metadata": {
        "id": "D43eVm6jOqDx"
      },
      "execution_count": null,
      "outputs": []
    },
    {
      "cell_type": "code",
      "source": [
        "!python code/__init__.py --folder aligned_images --output video_output.mp4 --duration 6"
      ],
      "metadata": {
        "id": "KJbQ2z4xR9kD"
      },
      "execution_count": null,
      "outputs": []
    }
  ]
}