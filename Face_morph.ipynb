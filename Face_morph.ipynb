{
  "nbformat": 4,
  "nbformat_minor": 0,
  "metadata": {
    "colab": {
      "provenance": [],
      "authorship_tag": "ABX9TyPLXYDj6MdpMpd+hEtayWVF",
      "include_colab_link": true
    },
    "kernelspec": {
      "name": "python3",
      "display_name": "Python 3"
    },
    "language_info": {
      "name": "python"
    }
  },
  "cells": [
    {
      "cell_type": "markdown",
      "metadata": {
        "id": "view-in-github",
        "colab_type": "text"
      },
      "source": [
        "<a href=\"https://colab.research.google.com/github/hopperrr/Face-Morphing/blob/master/Face_morph.ipynb\" target=\"_parent\"><img src=\"https://colab.research.google.com/assets/colab-badge.svg\" alt=\"Open In Colab\"/></a>"
      ]
    },
    {
      "cell_type": "code",
      "execution_count": null,
      "metadata": {
        "id": "PMiFn-SgOa08"
      },
      "outputs": [],
      "source": [
        "!git clone https://github.com/hopperrr/Face-Morphing.git"
      ]
    },
    {
      "cell_type": "code",
      "source": [
        "!mkdir /content/Face-Morphing/raw_images\n",
        "!mkdir /content/Face-Morphing/aligned_images\n",
        "!mkdir /content/Face-Morphing/tmp_videos"
      ],
      "metadata": {
        "id": "t_VkFUD8PChP"
      },
      "execution_count": 4,
      "outputs": []
    },
    {
      "cell_type": "markdown",
      "source": [
        "Add images with faces to the \"raw_images\" folder"
      ],
      "metadata": {
        "id": "eo4FMUicZAFt"
      }
    },
    {
      "cell_type": "code",
      "source": [
        "%cd /content/Face-Morphing\n",
        "!python code/utils/align_images.py raw_images/ aligned_images/ --output_size=1024"
      ],
      "metadata": {
        "id": "D43eVm6jOqDx"
      },
      "execution_count": null,
      "outputs": []
    },
    {
      "cell_type": "code",
      "source": [
        "!python code/__init__.py --folder aligned_images --output video_output.mp4 --duration 6"
      ],
      "metadata": {
        "id": "KJbQ2z4xR9kD"
      },
      "execution_count": null,
      "outputs": []
    },
    {
      "cell_type": "code",
      "source": [
        "!ffmpeg -i /content/Face-Morphing/video_output.mp4 -r 12 -s 600x600 output2.gif"
      ],
      "metadata": {
        "id": "pQsGcfG8pg6S"
      },
      "execution_count": null,
      "outputs": []
    }
  ]
}